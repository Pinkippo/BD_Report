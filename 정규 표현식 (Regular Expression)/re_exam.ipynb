{
 "cells": [
  {
   "cell_type": "code",
   "execution_count": 2,
   "metadata": {},
   "outputs": [],
   "source": [
    "# python의 re 모듈을 통해 정규표현식을 사용\n",
    "import re"
   ]
  },
  {
   "cell_type": "code",
   "execution_count": 3,
   "metadata": {},
   "outputs": [
    {
     "name": "stdout",
     "output_type": "stream",
     "text": [
      "<class 're.Pattern'>\n"
     ]
    }
   ],
   "source": [
    "# re.compile() 을 통해 정규표현식을 컴파일 하여 변수에 저장한 후 사용할 수 있다.\n",
    "r = re.compile('정규표현식')\n",
    "print(type(r))"
   ]
  },
  {
   "cell_type": "code",
   "execution_count": 6,
   "metadata": {},
   "outputs": [
    {
     "name": "stdout",
     "output_type": "stream",
     "text": [
      "<re.Match object; span=(0, 6), match='abcabc'>\n",
      "None\n",
      "<re.Match object; span=(0, 3), match='abc'>\n",
      "<re.Match object; span=(0, 3), match='abc'>\n"
     ]
    }
   ],
   "source": [
    "#패턴 객체의 match 매서드는 문자열의 시작부분 부터 검색하여 일치하지 않는 부분이 나올 때까지 찾는다.\n",
    "r = re.compile('[a-z]+')   # 알파벳이 하나 이상 반복되는 지\n",
    "print(r.match('abcabc'))\n",
    "print(r.match('123abc'))\n",
    "print(r.match('abc123'))\n",
    "# 또는\n",
    "print(re.match('abc', 'abcabc'))"
   ]
  },
  {
   "cell_type": "code",
   "execution_count": 7,
   "metadata": {},
   "outputs": [
    {
     "name": "stdout",
     "output_type": "stream",
     "text": [
      "<re.Match object; span=(0, 6), match='abcabc'>\n",
      "<re.Match object; span=(3, 6), match='abc'>\n",
      "<re.Match object; span=(3, 6), match='abc'>\n",
      "<re.Match object; span=(0, 3), match='abc'>\n"
     ]
    }
   ],
   "source": [
    "#search 매서드는 문자열 전체에서 검색하여 처음으로 매치되는 문자열을 찾는다.\n",
    "print(r.search('abcabc'))\n",
    "print(r.search('123abc'))\n",
    "print(r.search('123abc'))\n",
    "# 또는\n",
    "print(re.search('abc', 'abcabc'))"
   ]
  },
  {
   "cell_type": "code",
   "execution_count": 8,
   "metadata": {},
   "outputs": [
    {
     "name": "stdout",
     "output_type": "stream",
     "text": [
      "['abc', 'def']\n",
      "['abc', 'abc']\n"
     ]
    }
   ],
   "source": [
    "#findall 매서드는 문자열 전체에서 일치하는 모든 패턴을 찾아 리스트로 반환한다.\n",
    "print(r.findall('123abc456def'))\n",
    "# 또는\n",
    "print(re.findall('abc', 'abcabc'))"
   ]
  },
  {
   "cell_type": "code",
   "execution_count": 10,
   "metadata": {},
   "outputs": [
    {
     "name": "stdout",
     "output_type": "stream",
     "text": [
      "<class 'callable_iterator'>\n",
      "<re.Match object; span=(1, 2), match='a'>\n",
      "<re.Match object; span=(3, 4), match='b'>\n",
      "<re.Match object; span=(5, 6), match='c'>\n",
      "<re.Match object; span=(7, 8), match='d'>\n"
     ]
    }
   ],
   "source": [
    "#finditer 매서드는 문자열 전체에서 일치하는 모든 패턴을 찾아 반복가능 객체로 반환한다.\n",
    "fitr = r.finditer('1a2b3c4d')\n",
    "print(type(fitr))\n",
    "for i in fitr:\n",
    "    print(i)"
   ]
  },
  {
   "cell_type": "code",
   "execution_count": 12,
   "metadata": {},
   "outputs": [],
   "source": [
    "#sub 매서드는 문자열에서 특정 문자 패턴을 원하는 문자로 변경할 수 있다.\n",
    "text = re.sub('찾을 패턴', '패턴 변경할 내용', '원본')"
   ]
  },
  {
   "cell_type": "code",
   "execution_count": 16,
   "metadata": {},
   "outputs": [
    {
     "data": {
      "text/plain": [
       "['1222', '12', '12']"
      ]
     },
     "execution_count": 16,
     "metadata": {},
     "output_type": "execute_result"
    }
   ],
   "source": [
    "#그룹화\n",
    "#위의 표현식에 대한 문자들은 하나의 문자에만 적용되어 불편함이 있다.\n",
    "re.findall('12+','12221212')"
   ]
  },
  {
   "cell_type": "code",
   "execution_count": 18,
   "metadata": {},
   "outputs": [
    {
     "data": {
      "text/plain": [
       "<re.Match object; span=(0, 4), match='1212'>"
      ]
     },
     "execution_count": 18,
     "metadata": {},
     "output_type": "execute_result"
    }
   ],
   "source": [
    "#표현식을 그룹화 하여 문자를 적용하면 이러한 불편함을 해결할 수 있다.\n",
    "re.match('(12)+','1212')"
   ]
  },
  {
   "cell_type": "code",
   "execution_count": 20,
   "metadata": {},
   "outputs": [
    {
     "name": "stdout",
     "output_type": "stream",
     "text": [
      "('12', 'de')\n"
     ]
    }
   ],
   "source": [
    "#여러개의 그룹으로 만들 수 있다\n",
    "#groups() 매서드를 사용하면 그룹들을 튜플 형태로 리턴할 수 있다. group() 매서드를 사용하면 각 그룹에 대한 매치 결과를 얻을 수 있다.\n",
    "pp = re.match('(12)...(de)', '12abcde67')\n",
    "grouping = pp.groups()\n",
    "print(grouping)"
   ]
  },
  {
   "cell_type": "code",
   "execution_count": 21,
   "metadata": {},
   "outputs": [
    {
     "name": "stdout",
     "output_type": "stream",
     "text": [
      "12 34\n"
     ]
    }
   ],
   "source": [
    "#그룹에 이름을 지정하려면 (?P<그룹이름>표현식) 형식을 사용해야 한다.\n",
    "b = re.search('(?P<f>12)(?P<s>34)', '1234')\n",
    "print(b.group('f'), b.group('s'))"
   ]
  },
  {
   "cell_type": "code",
   "execution_count": 22,
   "metadata": {},
   "outputs": [
    {
     "data": {
      "text/plain": [
       "<re.Match object; span=(0, 10), match='1234561234'>"
      ]
     },
     "execution_count": 22,
     "metadata": {},
     "output_type": "execute_result"
    }
   ],
   "source": [
    "#표현식에서 그룹이름으로 호출할 수도 있다.\n",
    "re.search('(?P<f>12)(?P<s>34)..(?P=f)(?P=s)', '1234561234')"
   ]
  },
  {
   "cell_type": "code",
   "execution_count": 23,
   "metadata": {},
   "outputs": [
    {
     "data": {
      "text/plain": [
       "<re.Match object; span=(0, 10), match='1234561234'>"
      ]
     },
     "execution_count": 23,
     "metadata": {},
     "output_type": "execute_result"
    }
   ],
   "source": [
    "#표현식에서 \\그룹번호를 사용해 그룹을 재참조할 수 있다. 표현식 앞에 r을 붙여야 한다.\n",
    "re.search(r'(?P<f>12)(?P<s>34)..\\1\\2', '1234561234')"
   ]
  },
  {
   "cell_type": "code",
   "execution_count": 24,
   "metadata": {},
   "outputs": [
    {
     "name": "stdout",
     "output_type": "stream",
     "text": [
      "[('07', '28')]\n",
      "[('07', '28'), ('06', '31')]\n"
     ]
    }
   ],
   "source": [
    "#표현식과 매치되는 문자 중에서 원하는 부분만 추출하고 싶을 때 소괄호의 캡처 기능을 사용한다.\n",
    "print(re.findall('\\d{4}-(\\d\\d)-(\\d\\d)', '2028-07-28'))\n",
    "print(re.findall('\\d{4}-(\\d\\d)-(\\d\\d)', '1999/05/21 2018-07-28 2018-06-31 2019.01.01'))"
   ]
  },
  {
   "cell_type": "code",
   "execution_count": 25,
   "metadata": {},
   "outputs": [
    {
     "name": "stdout",
     "output_type": "stream",
     "text": [
      "<re.Match object; span=(3, 9), match='121212'>\n",
      "121212\n",
      "12\n"
     ]
    }
   ],
   "source": [
    "#소괄호를 사용해 그룹화는 하고 싶지만 캡처 기능은 사용하고 싶지 않은 경우가 있다.\n",
    "#'121212'만 필요하나 그룹화 때문에 '12' 또한 캡처 된 경우\n",
    "a = re.search('((12)+)','aaa121212')\n",
    "print(a)\n",
    "print(a.group(1))\n",
    "print(a.group(2))"
   ]
  }
 ],
 "metadata": {
  "kernelspec": {
   "display_name": "Python 3",
   "language": "python",
   "name": "python3"
  },
  "language_info": {
   "codemirror_mode": {
    "name": "ipython",
    "version": 3
   },
   "file_extension": ".py",
   "mimetype": "text/x-python",
   "name": "python",
   "nbconvert_exporter": "python",
   "pygments_lexer": "ipython3",
   "version": "3.11.3"
  },
  "orig_nbformat": 4
 },
 "nbformat": 4,
 "nbformat_minor": 2
}
